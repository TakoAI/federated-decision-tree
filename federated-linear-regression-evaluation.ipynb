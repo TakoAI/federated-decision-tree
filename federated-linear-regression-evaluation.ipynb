{
 "cells": [
  {
   "cell_type": "markdown",
   "id": "84487b9b-5e99-4ae1-992a-7658095ffd3b",
   "metadata": {},
   "source": [
    "# Federated Linear Regression"
   ]
  },
  {
   "cell_type": "code",
   "execution_count": 1,
   "id": "a553d168-8ab4-40aa-99c4-0b7041eb4ce7",
   "metadata": {},
   "outputs": [],
   "source": [
    "import pandas as pd\n",
    "import numpy as np"
   ]
  },
  {
   "cell_type": "code",
   "execution_count": 2,
   "id": "f66fcc4d-eb62-4c1c-af04-813cbb5dbb4d",
   "metadata": {},
   "outputs": [],
   "source": [
    "from flr import FLR"
   ]
  },
  {
   "cell_type": "code",
   "execution_count": 3,
   "id": "f44bf488-160c-4102-87bc-e088c1cadc23",
   "metadata": {},
   "outputs": [],
   "source": [
    "X = np.array([[1, 2], [2, 2], [1, 3], [3, 2], [2, 3], [3, 1]])\n",
    "Y = np.array([2, 2, 3, 3, 4, 2])"
   ]
  },
  {
   "cell_type": "code",
   "execution_count": 4,
   "id": "3fc42ac6-9527-48e0-b3aa-7c86df328ba0",
   "metadata": {},
   "outputs": [],
   "source": [
    "flr = FLR().fit(X, Y)"
   ]
  },
  {
   "cell_type": "code",
   "execution_count": 5,
   "id": "38539112-55da-4c2e-8985-5da5e3ea9243",
   "metadata": {},
   "outputs": [
    {
     "data": {
      "text/plain": [
       "array([1.81818182, 2.45454545, 3.09090909, 3.09090909, 3.72727273,\n",
       "       1.81818182])"
      ]
     },
     "execution_count": 5,
     "metadata": {},
     "output_type": "execute_result"
    }
   ],
   "source": [
    "flr.predict(X)"
   ]
  },
  {
   "cell_type": "code",
   "execution_count": 6,
   "id": "56db1b05-34c9-4d3a-9e9a-ab99d0e702ab",
   "metadata": {},
   "outputs": [],
   "source": [
    "flr.merge(flr.copy())"
   ]
  },
  {
   "cell_type": "code",
   "execution_count": 7,
   "id": "f54b190b-abcc-4d84-a7a8-75ad9cec90e6",
   "metadata": {},
   "outputs": [
    {
     "data": {
      "text/plain": [
       "array([1.81818182, 2.45454545, 3.09090909, 3.09090909, 3.72727273,\n",
       "       1.81818182])"
      ]
     },
     "execution_count": 7,
     "metadata": {},
     "output_type": "execute_result"
    }
   ],
   "source": [
    "flr.predict(X)"
   ]
  },
  {
   "cell_type": "code",
   "execution_count": 8,
   "id": "bc89acaf-99c2-45a6-8f2f-97bbd5a1632e",
   "metadata": {},
   "outputs": [],
   "source": [
    "X2 = np.array([[0, 1], [2, 2], [1, 3], [3, 3]])\n",
    "Y2 = np.array([1, 2, 3, 4])"
   ]
  },
  {
   "cell_type": "code",
   "execution_count": 9,
   "id": "7b088991-666c-4ae3-916b-275dd15eaefa",
   "metadata": {},
   "outputs": [],
   "source": [
    "flr.merge(FLR().fit(X2, Y2))"
   ]
  },
  {
   "cell_type": "code",
   "execution_count": 10,
   "id": "8f9fd26d-c99a-4739-a557-77617a063aca",
   "metadata": {},
   "outputs": [
    {
     "data": {
      "text/plain": [
       "array([1.88863636, 2.44090909, 3.09318182, 2.99318182, 3.64545455,\n",
       "       1.78863636])"
      ]
     },
     "execution_count": 10,
     "metadata": {},
     "output_type": "execute_result"
    }
   ],
   "source": [
    "flr.predict(X)"
   ]
  },
  {
   "cell_type": "code",
   "execution_count": null,
   "id": "becf3fbe-0562-42ac-a085-752d675e4a50",
   "metadata": {},
   "outputs": [],
   "source": []
  }
 ],
 "metadata": {
  "kernelspec": {
   "display_name": "Python 3 (ipykernel)",
   "language": "python",
   "name": "python3"
  },
  "language_info": {
   "codemirror_mode": {
    "name": "ipython",
    "version": 3
   },
   "file_extension": ".py",
   "mimetype": "text/x-python",
   "name": "python",
   "nbconvert_exporter": "python",
   "pygments_lexer": "ipython3",
   "version": "3.10.6"
  }
 },
 "nbformat": 4,
 "nbformat_minor": 5
}
