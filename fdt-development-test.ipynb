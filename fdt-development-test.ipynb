{
 "cells": [
  {
   "cell_type": "code",
   "execution_count": 1,
   "id": "96e893e0-5460-4015-bb83-4e553c6d8c4d",
   "metadata": {
    "tags": []
   },
   "outputs": [],
   "source": [
    "# Dependencies\n",
    "import pandas as pd\n",
    "import numpy as np"
   ]
  },
  {
   "cell_type": "code",
   "execution_count": 2,
   "id": "3a20c19c-6fb1-4305-89ff-3a4d68b50cc4",
   "metadata": {
    "tags": []
   },
   "outputs": [],
   "source": [
    "from fdt import FDT"
   ]
  },
  {
   "cell_type": "code",
   "execution_count": 3,
   "id": "e512a903-91ae-475a-afc3-19aa023e6fa8",
   "metadata": {
    "tags": []
   },
   "outputs": [],
   "source": [
    "from sklearn import datasets\n",
    "from sklearn.model_selection import train_test_split"
   ]
  },
  {
   "cell_type": "markdown",
   "id": "b000bfed-ea63-4fa6-917d-f1fe0407f935",
   "metadata": {},
   "source": [
    "# Classification"
   ]
  },
  {
   "cell_type": "code",
   "execution_count": 4,
   "id": "f61b9957-7cf7-44de-8be1-df9a966857fb",
   "metadata": {
    "tags": []
   },
   "outputs": [
    {
     "data": {
      "text/plain": [
       "((569, 30), pandas.core.frame.DataFrame)"
      ]
     },
     "execution_count": 4,
     "metadata": {},
     "output_type": "execute_result"
    }
   ],
   "source": [
    "breast_cancer = datasets.load_breast_cancer(as_frame=True)\n",
    "breast_cancer.data.shape, type(breast_cancer['data'])"
   ]
  },
  {
   "cell_type": "code",
   "execution_count": 5,
   "id": "1341b363-f812-49be-bb19-b9d48c0e3828",
   "metadata": {
    "tags": []
   },
   "outputs": [],
   "source": [
    "X = breast_cancer['data']\n",
    "Y = breast_cancer['target']\n",
    "X_train, X_test, Y_train, Y_test = train_test_split(X, Y, test_size=0.2, random_state=42)"
   ]
  },
  {
   "cell_type": "code",
   "execution_count": 6,
   "id": "8eea6d65-0060-4e83-a72f-022837426243",
   "metadata": {
    "tags": []
   },
   "outputs": [
    {
     "name": "stdout",
     "output_type": "stream",
     "text": [
      "436 455 0.9582417582417583\n",
      "CPU times: user 7.83 s, sys: 58.9 ms, total: 7.89 s\n",
      "Wall time: 7.88 s\n"
     ]
    }
   ],
   "source": [
    "%%time\n",
    "# Initiate and train the federated decision tree\n",
    "root = FDT().fit(X_train, Y_train)\n",
    "result = root.predict(X_train) == Y_train\n",
    "print(sum(result), len(result), sum(result) / len(result))"
   ]
  },
  {
   "cell_type": "code",
   "execution_count": 7,
   "id": "ac511a10-ed7f-4e3e-aa4f-a5aae93b6dc2",
   "metadata": {
    "tags": []
   },
   "outputs": [
    {
     "name": "stdout",
     "output_type": "stream",
     "text": [
      "108 114 0.9473684210526315\n"
     ]
    }
   ],
   "source": [
    "result = root.predict(X_test) == Y_test\n",
    "print(sum(result), len(result), sum(result) / len(result))"
   ]
  },
  {
   "cell_type": "code",
   "execution_count": 8,
   "id": "8e4a7ebf-7d6f-4780-815e-1e32176c3c09",
   "metadata": {},
   "outputs": [
    {
     "name": "stdout",
     "output_type": "stream",
     "text": [
      "108 114 0.9473684210526315\n"
     ]
    }
   ],
   "source": [
    "root.merge(FDT().fit(X_test, Y_test))\n",
    "result = root.predict(X_test) == Y_test\n",
    "print(sum(result), len(result), sum(result) / len(result))"
   ]
  },
  {
   "cell_type": "code",
   "execution_count": 9,
   "id": "938e6f35-db93-47f8-9939-6087d92fbe3a",
   "metadata": {},
   "outputs": [
    {
     "name": "stdout",
     "output_type": "stream",
     "text": [
      "455 455 1.0\n",
      "CPU times: user 56.3 s, sys: 315 ms, total: 56.6 s\n",
      "Wall time: 56.7 s\n"
     ]
    }
   ],
   "source": [
    "%%time\n",
    "# Initiate and train the federated bayes tree\n",
    "root = FDT(algo_type=\"bayes\").fit(X_train, Y_train)\n",
    "result = root.predict(X_train) == Y_train\n",
    "print(sum(result), len(result), sum(result) / len(result))"
   ]
  },
  {
   "cell_type": "code",
   "execution_count": 10,
   "id": "d46b1113-0bde-43c6-97a9-17dcfc6e7447",
   "metadata": {},
   "outputs": [
    {
     "name": "stdout",
     "output_type": "stream",
     "text": [
      "108 114 0.9473684210526315\n"
     ]
    }
   ],
   "source": [
    "result = root.predict(X_test) == Y_test\n",
    "print(sum(result), len(result), sum(result) / len(result))"
   ]
  },
  {
   "cell_type": "code",
   "execution_count": 11,
   "id": "3d452e08-d236-4239-88de-d62bbffd6feb",
   "metadata": {},
   "outputs": [
    {
     "name": "stdout",
     "output_type": "stream",
     "text": [
      "110 114 0.9649122807017544\n"
     ]
    }
   ],
   "source": [
    "root.merge(FDT(algo_type=\"bayes\").fit(X_test, Y_test))\n",
    "result = root.predict(X_test) == Y_test\n",
    "print(sum(result), len(result), sum(result) / len(result))"
   ]
  },
  {
   "cell_type": "markdown",
   "id": "decfd769-599a-4a8b-8eac-1fec70511594",
   "metadata": {},
   "source": [
    "# Regression"
   ]
  },
  {
   "cell_type": "code",
   "execution_count": 12,
   "id": "a178a603-a2cc-40b8-8e4e-5d4b7d555c3b",
   "metadata": {},
   "outputs": [
    {
     "data": {
      "text/plain": [
       "((442, 10), pandas.core.frame.DataFrame)"
      ]
     },
     "execution_count": 12,
     "metadata": {},
     "output_type": "execute_result"
    }
   ],
   "source": [
    "diabetes = datasets.load_diabetes(as_frame=True)\n",
    "diabetes.data.shape, type(diabetes['data'])"
   ]
  },
  {
   "cell_type": "code",
   "execution_count": 13,
   "id": "325c60f6-286f-4faa-89ff-c36ffe708354",
   "metadata": {},
   "outputs": [],
   "source": [
    "X = diabetes['data']\n",
    "Y = diabetes['target']\n",
    "X_train, X_test, Y_train, Y_test = train_test_split(X, Y, test_size=0.2, random_state=42)"
   ]
  },
  {
   "cell_type": "code",
   "execution_count": 14,
   "id": "a0bcdcf1-4118-4aad-975e-fd5d2c0f8944",
   "metadata": {},
   "outputs": [
    {
     "name": "stdout",
     "output_type": "stream",
     "text": [
      "840550.3128372148 353 2381.162359312223\n",
      "CPU times: user 1.15 s, sys: 8.5 ms, total: 1.15 s\n",
      "Wall time: 1.15 s\n"
     ]
    }
   ],
   "source": [
    "%%time\n",
    "# Initiate and train the federated distribution tree\n",
    "root = FDT(algo_type=\"regression\").fit(X_train, Y_train)\n",
    "result = root.predict(X_train) - Y_train\n",
    "print(sum(result ** 2), len(result), sum(result ** 2) / len(result))"
   ]
  },
  {
   "cell_type": "code",
   "execution_count": 15,
   "id": "50f42a6f-9d81-47c8-bb85-523a32fb60dd",
   "metadata": {},
   "outputs": [
    {
     "name": "stdout",
     "output_type": "stream",
     "text": [
      "342853.75501510437 89 3852.289382192184\n"
     ]
    }
   ],
   "source": [
    "result = root.predict(X_test) - Y_test\n",
    "print(sum(result ** 2), len(result), sum(result ** 2) / len(result))"
   ]
  },
  {
   "cell_type": "code",
   "execution_count": 16,
   "id": "412b6256-47e6-4771-a22c-4d257ba9f3a0",
   "metadata": {},
   "outputs": [
    {
     "name": "stdout",
     "output_type": "stream",
     "text": [
      "239876.7580940796 89 2695.2444729671865\n"
     ]
    }
   ],
   "source": [
    "root.merge(FDT(algo_type=\"regression\").fit(X_test, Y_test))\n",
    "result = root.predict(X_test) - Y_test\n",
    "print(sum(result ** 2), len(result), sum(result ** 2) / len(result))"
   ]
  },
  {
   "cell_type": "code",
   "execution_count": 17,
   "id": "f52137a9-4f0b-44f8-b806-00c1e724cc65",
   "metadata": {},
   "outputs": [
    {
     "name": "stdout",
     "output_type": "stream",
     "text": [
      "796043.6958011813 353 2255.0812912214765\n",
      "CPU times: user 2.58 s, sys: 6.8 ms, total: 2.59 s\n",
      "Wall time: 2.58 s\n"
     ]
    }
   ],
   "source": [
    "%%time\n",
    "# Initiate and train the federated distribution tree\n",
    "root = FDT(algo_type=\"linear\", max_depth=2).fit(X_train, Y_train)\n",
    "result = root.predict(X_train) - Y_train\n",
    "print(sum(result ** 2), len(result), sum(result ** 2) / len(result))"
   ]
  },
  {
   "cell_type": "code",
   "execution_count": 18,
   "id": "cdd53542-d5c4-402e-a26a-64cd12becf64",
   "metadata": {},
   "outputs": [
    {
     "name": "stdout",
     "output_type": "stream",
     "text": [
      "287036.98222060344 89 3225.1346316921736\n"
     ]
    }
   ],
   "source": [
    "result = root.predict(X_test) - Y_test\n",
    "print(sum(result ** 2), len(result), sum(result ** 2) / len(result))"
   ]
  },
  {
   "cell_type": "code",
   "execution_count": 19,
   "id": "52f6c2c8-706e-47b6-b107-6a06133555e1",
   "metadata": {},
   "outputs": [
    {
     "name": "stdout",
     "output_type": "stream",
     "text": [
      "122731.30059249181 89 1379.0033774437281\n"
     ]
    }
   ],
   "source": [
    "root.merge(FDT(algo_type=\"linear\", max_depth=2).fit(X_test, Y_test))\n",
    "result = root.predict(X_test) - Y_test\n",
    "print(sum(result ** 2), len(result), sum(result ** 2) / len(result))"
   ]
  },
  {
   "cell_type": "code",
   "execution_count": null,
   "id": "411174df-25ff-45b8-a82e-1b1db6c274db",
   "metadata": {},
   "outputs": [],
   "source": []
  }
 ],
 "metadata": {
  "kernelspec": {
   "display_name": "Python 3 (ipykernel)",
   "language": "python",
   "name": "python3"
  },
  "language_info": {
   "codemirror_mode": {
    "name": "ipython",
    "version": 3
   },
   "file_extension": ".py",
   "mimetype": "text/x-python",
   "name": "python",
   "nbconvert_exporter": "python",
   "pygments_lexer": "ipython3",
   "version": "3.11.3"
  }
 },
 "nbformat": 4,
 "nbformat_minor": 5
}
