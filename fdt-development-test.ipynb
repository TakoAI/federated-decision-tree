{
 "cells": [
  {
   "cell_type": "code",
   "execution_count": 1,
   "id": "96e893e0-5460-4015-bb83-4e553c6d8c4d",
   "metadata": {
    "tags": []
   },
   "outputs": [],
   "source": [
    "# Dependencies\n",
    "import pandas as pd\n",
    "import numpy as np"
   ]
  },
  {
   "cell_type": "code",
   "execution_count": 2,
   "id": "3a20c19c-6fb1-4305-89ff-3a4d68b50cc4",
   "metadata": {
    "tags": []
   },
   "outputs": [],
   "source": [
    "from fdt import FDT"
   ]
  },
  {
   "cell_type": "code",
   "execution_count": 3,
   "id": "e512a903-91ae-475a-afc3-19aa023e6fa8",
   "metadata": {
    "tags": []
   },
   "outputs": [],
   "source": [
    "from sklearn import datasets\n",
    "from sklearn.model_selection import train_test_split"
   ]
  },
  {
   "cell_type": "code",
   "execution_count": 4,
   "id": "f61b9957-7cf7-44de-8be1-df9a966857fb",
   "metadata": {
    "tags": []
   },
   "outputs": [
    {
     "data": {
      "text/plain": [
       "((569, 30), pandas.core.frame.DataFrame)"
      ]
     },
     "execution_count": 4,
     "metadata": {},
     "output_type": "execute_result"
    }
   ],
   "source": [
    "breast_cancer = datasets.load_breast_cancer(as_frame=True)\n",
    "breast_cancer.data.shape, type(breast_cancer['data'])"
   ]
  },
  {
   "cell_type": "code",
   "execution_count": 5,
   "id": "1341b363-f812-49be-bb19-b9d48c0e3828",
   "metadata": {
    "tags": []
   },
   "outputs": [],
   "source": [
    "X = breast_cancer['data']\n",
    "Y = list(breast_cancer['target'])\n",
    "X_train, X_test, Y_train, Y_test = train_test_split(X, Y, test_size=0.2, random_state=42)"
   ]
  },
  {
   "cell_type": "code",
   "execution_count": 6,
   "id": "8eea6d65-0060-4e83-a72f-022837426243",
   "metadata": {
    "tags": []
   },
   "outputs": [],
   "source": [
    "# Initiate and train the federated decision tree\n",
    "root = FDT().fit(X_train, Y_train)"
   ]
  },
  {
   "cell_type": "code",
   "execution_count": 7,
   "id": "ac511a10-ed7f-4e3e-aa4f-a5aae93b6dc2",
   "metadata": {
    "tags": []
   },
   "outputs": [
    {
     "name": "stdout",
     "output_type": "stream",
     "text": [
      "107 114 0.9385964912280702\n"
     ]
    }
   ],
   "source": [
    "result = root.predict(X_test) == np.array(Y_test)\n",
    "print(sum(result), len(result), sum(result) / len(result))"
   ]
  },
  {
   "cell_type": "code",
   "execution_count": 8,
   "id": "938e6f35-db93-47f8-9939-6087d92fbe3a",
   "metadata": {},
   "outputs": [],
   "source": [
    "# Initiate and train the federated bayes tree\n",
    "root = FDT(algo_type=\"bayes\").fit(X_train, Y_train)"
   ]
  },
  {
   "cell_type": "code",
   "execution_count": 9,
   "id": "d46b1113-0bde-43c6-97a9-17dcfc6e7447",
   "metadata": {},
   "outputs": [
    {
     "name": "stdout",
     "output_type": "stream",
     "text": [
      "108 114 0.9473684210526315\n"
     ]
    }
   ],
   "source": [
    "result = root.predict(X_test) == np.array(Y_test)\n",
    "print(sum(result), len(result), sum(result) / len(result))"
   ]
  },
  {
   "cell_type": "code",
   "execution_count": null,
   "id": "a178a603-a2cc-40b8-8e4e-5d4b7d555c3b",
   "metadata": {},
   "outputs": [],
   "source": []
  }
 ],
 "metadata": {
  "kernelspec": {
   "display_name": "Python 3 (ipykernel)",
   "language": "python",
   "name": "python3"
  },
  "language_info": {
   "codemirror_mode": {
    "name": "ipython",
    "version": 3
   },
   "file_extension": ".py",
   "mimetype": "text/x-python",
   "name": "python",
   "nbconvert_exporter": "python",
   "pygments_lexer": "ipython3",
   "version": "3.11.2"
  }
 },
 "nbformat": 4,
 "nbformat_minor": 5
}
