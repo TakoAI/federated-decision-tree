{
 "cells": [
  {
   "cell_type": "markdown",
   "id": "08eeaa7a-0f21-4730-8fa7-0510af394379",
   "metadata": {},
   "source": [
    "# Naive Bayes Decision"
   ]
  },
  {
   "cell_type": "code",
   "execution_count": 1,
   "id": "322e4ac8-c6d5-4bcc-8d62-cd64608c33d5",
   "metadata": {
    "tags": []
   },
   "outputs": [],
   "source": [
    "import pandas as pd\n",
    "import numpy as np"
   ]
  },
  {
   "cell_type": "code",
   "execution_count": 2,
   "id": "6a4b866b-8594-457e-bde3-47014c5d9986",
   "metadata": {
    "tags": []
   },
   "outputs": [],
   "source": [
    "values: dict[int, (np.array, np.array)] = dict()"
   ]
  },
  {
   "cell_type": "code",
   "execution_count": 3,
   "id": "9e6fa17a-0afb-43ec-96cb-8437142a3219",
   "metadata": {
    "tags": []
   },
   "outputs": [],
   "source": [
    "m = np.array([1, 2, 1, 2, 1])\n",
    "s = np.array([0.1, 0.1, 0.1, 0.1, 0.1])"
   ]
  },
  {
   "cell_type": "code",
   "execution_count": 4,
   "id": "402e849a-781d-4a30-a9b8-b75bcea1ecb3",
   "metadata": {
    "tags": []
   },
   "outputs": [],
   "source": [
    "values[0] = [m, s, 4]\n",
    "values[1] = [m + 1, s, 2]"
   ]
  },
  {
   "cell_type": "code",
   "execution_count": 5,
   "id": "375d7a04-1760-4eb7-8ab3-6b8cbdfcd169",
   "metadata": {
    "tags": []
   },
   "outputs": [
    {
     "data": {
      "text/plain": [
       "{0: [array([1, 2, 1, 2, 1]), array([0.1, 0.1, 0.1, 0.1, 0.1]), 4],\n",
       " 1: [array([2, 3, 2, 3, 2]), array([0.1, 0.1, 0.1, 0.1, 0.1]), 2]}"
      ]
     },
     "execution_count": 5,
     "metadata": {},
     "output_type": "execute_result"
    }
   ],
   "source": [
    "values"
   ]
  },
  {
   "cell_type": "code",
   "execution_count": 6,
   "id": "fd9aacd8-78f4-40d2-abc4-5daac4411804",
   "metadata": {
    "tags": []
   },
   "outputs": [],
   "source": [
    "X = pd.DataFrame(np.array([[1, 1, 1, 1, 1], [2, 3, 3, 3, 3], [0, 0, 0, 0, 0], [3, 4, 3, 3, 3]]))\n",
    "Y = [0, 1, 0, 1]"
   ]
  },
  {
   "cell_type": "code",
   "execution_count": 7,
   "id": "4bda6945-7c7d-4f2b-9213-774a3d051f97",
   "metadata": {
    "tags": []
   },
   "outputs": [],
   "source": [
    "kp = {k: np.sum(((X - values[k][0]) / values[k][1]) ** 2, axis=1) for k in values}"
   ]
  },
  {
   "cell_type": "code",
   "execution_count": 8,
   "id": "b9d68501-6a18-470f-b945-286835e5d6ca",
   "metadata": {
    "tags": []
   },
   "outputs": [
    {
     "data": {
      "text/plain": [
       "{0: 0     200.0\n",
       " 1    1100.0\n",
       " 2    1100.0\n",
       " 3    1700.0\n",
       " dtype: float64,\n",
       " 1: 0    1100.0\n",
       " 1     200.0\n",
       " 2    3000.0\n",
       " 3     400.0\n",
       " dtype: float64}"
      ]
     },
     "execution_count": 8,
     "metadata": {},
     "output_type": "execute_result"
    }
   ],
   "source": [
    "kp"
   ]
  },
  {
   "cell_type": "code",
   "execution_count": 9,
   "id": "3f1a0915-8a5e-48db-964c-b229fd27ba27",
   "metadata": {
    "tags": []
   },
   "outputs": [],
   "source": [
    "yp = []\n",
    "for i in range(len(X)):\n",
    "    hk = 0\n",
    "    hv = float('inf')\n",
    "    for k in kp:\n",
    "        if kp[k][i] < hv:\n",
    "            hk = k\n",
    "            hv = kp[k][i]\n",
    "    yp.append(hk)"
   ]
  },
  {
   "cell_type": "code",
   "execution_count": 10,
   "id": "66bfb525-ef9d-41ac-a4bd-18f93d5fe3bc",
   "metadata": {
    "tags": []
   },
   "outputs": [
    {
     "data": {
      "text/plain": [
       "[0, 1, 0, 1]"
      ]
     },
     "execution_count": 10,
     "metadata": {},
     "output_type": "execute_result"
    }
   ],
   "source": [
    "yp"
   ]
  },
  {
   "cell_type": "code",
   "execution_count": 11,
   "id": "95535fc5-f88f-463e-b43a-2782ed5f664c",
   "metadata": {
    "tags": []
   },
   "outputs": [],
   "source": [
    "df = X.copy()\n",
    "df['Y'] = Y"
   ]
  },
  {
   "cell_type": "code",
   "execution_count": 12,
   "id": "0c946602-a4c5-4333-9c5b-661be675e10a",
   "metadata": {
    "tags": []
   },
   "outputs": [
    {
     "data": {
      "text/plain": [
       "array([0, 1])"
      ]
     },
     "execution_count": 12,
     "metadata": {},
     "output_type": "execute_result"
    }
   ],
   "source": [
    "np.unique(Y)"
   ]
  },
  {
   "cell_type": "code",
   "execution_count": 13,
   "id": "7a54a7ad-31d9-408f-b44b-8ff325a9e325",
   "metadata": {
    "tags": []
   },
   "outputs": [
    {
     "data": {
      "text/plain": [
       "{0: [array([0.5, 0.5, 0.5, 0.5, 0.5]), array([0.5, 0.5, 0.5, 0.5, 0.5]), 2],\n",
       " 1: [array([2.5, 3.5, 3. , 3. , 3. ]), array([0.5, 0.5, 0. , 0. , 0. ]), 2]}"
      ]
     },
     "execution_count": 13,
     "metadata": {},
     "output_type": "execute_result"
    }
   ],
   "source": [
    "evalvalues = {}\n",
    "yarr = np.array(Y)\n",
    "ks = np.unique(yarr)\n",
    "df = X.copy()\n",
    "for k in ks:\n",
    "    evalvalues[k] = [np.array(np.mean(df[yarr == k], axis=0)), np.array(np.std(df[yarr == k], axis=0)), sum(yarr == k)]\n",
    "evalvalues"
   ]
  },
  {
   "cell_type": "markdown",
   "id": "06ff7cd1-83c9-4ec2-bcce-b050d9d4fd8d",
   "metadata": {},
   "source": [
    "# Test Federated Bayes Decision"
   ]
  },
  {
   "cell_type": "code",
   "execution_count": 14,
   "id": "a0d5c07a-e1d5-47b6-9305-a5225b0324ce",
   "metadata": {
    "tags": []
   },
   "outputs": [],
   "source": [
    "from fbd import FBD"
   ]
  },
  {
   "cell_type": "markdown",
   "id": "723a7e4d-c461-47ad-87a6-fe38766a17eb",
   "metadata": {},
   "source": [
    "### Initiation with Values"
   ]
  },
  {
   "cell_type": "code",
   "execution_count": 15,
   "id": "77fd008a-20a5-45c5-8b4d-64be17a59d11",
   "metadata": {
    "tags": []
   },
   "outputs": [],
   "source": [
    "fbd = FBD(values)"
   ]
  },
  {
   "cell_type": "code",
   "execution_count": 16,
   "id": "3a08331e-c45a-43dc-a1c8-cadadd817684",
   "metadata": {
    "tags": []
   },
   "outputs": [
    {
     "data": {
      "text/plain": [
       "{0: [array([1, 2, 1, 2, 1]), array([0.1, 0.1, 0.1, 0.1, 0.1]), 4],\n",
       " 1: [array([2, 3, 2, 3, 2]), array([0.1, 0.1, 0.1, 0.1, 0.1]), 2]}"
      ]
     },
     "execution_count": 16,
     "metadata": {},
     "output_type": "execute_result"
    }
   ],
   "source": [
    "fbd.values"
   ]
  },
  {
   "cell_type": "code",
   "execution_count": 17,
   "id": "a934f0ee-4881-4369-b03d-43091b668057",
   "metadata": {
    "tags": []
   },
   "outputs": [
    {
     "data": {
      "text/plain": [
       "[0, 1, 0, 1]"
      ]
     },
     "execution_count": 17,
     "metadata": {},
     "output_type": "execute_result"
    }
   ],
   "source": [
    "fbd.predict(X)"
   ]
  },
  {
   "cell_type": "markdown",
   "id": "23ae90ab-2d30-4cce-9c01-83e2901bfc4f",
   "metadata": {},
   "source": [
    "### Initiation with Training"
   ]
  },
  {
   "cell_type": "code",
   "execution_count": 18,
   "id": "e78b385c-6e4d-4c03-8450-79ac21a026aa",
   "metadata": {},
   "outputs": [],
   "source": [
    "nfbd = fbd.copy()"
   ]
  },
  {
   "cell_type": "code",
   "execution_count": 19,
   "id": "ac9f7259-5abb-4649-a741-c690febfe7e3",
   "metadata": {
    "tags": []
   },
   "outputs": [],
   "source": [
    "nfbd.fit(X, Y)"
   ]
  },
  {
   "cell_type": "code",
   "execution_count": 20,
   "id": "9828472a-156c-44e3-87eb-b41992e1f0e0",
   "metadata": {
    "tags": []
   },
   "outputs": [
    {
     "data": {
      "text/plain": [
       "{0: [array([0.5, 0.5, 0.5, 0.5, 0.5]), array([0.5, 0.5, 0.5, 0.5, 0.5]), 2],\n",
       " 1: [array([2.5, 3.5, 3. , 3. , 3. ]), array([0.5, 0.5, 0. , 0. , 0. ]), 2]}"
      ]
     },
     "execution_count": 20,
     "metadata": {},
     "output_type": "execute_result"
    }
   ],
   "source": [
    "nfbd.values"
   ]
  },
  {
   "cell_type": "code",
   "execution_count": 21,
   "id": "9a2c6e96-c04b-498d-a499-23f7cfa7ecb5",
   "metadata": {
    "tags": []
   },
   "outputs": [
    {
     "data": {
      "text/plain": [
       "[0, 1, 0, 1]"
      ]
     },
     "execution_count": 21,
     "metadata": {},
     "output_type": "execute_result"
    }
   ],
   "source": [
    "nfbd.predict(X)"
   ]
  },
  {
   "cell_type": "markdown",
   "id": "95338adf-b1ca-4c45-8dad-dcc1527d8449",
   "metadata": {},
   "source": [
    "## Merge Bayes Decision"
   ]
  },
  {
   "cell_type": "code",
   "execution_count": 22,
   "id": "00325b26-56c7-427d-9811-96c058870c55",
   "metadata": {},
   "outputs": [],
   "source": [
    "fbd.merge(nfbd)"
   ]
  },
  {
   "cell_type": "code",
   "execution_count": 23,
   "id": "ee09b1fa-fe1c-4b14-b3f7-8428e39232fe",
   "metadata": {
    "tags": []
   },
   "outputs": [
    {
     "data": {
      "text/plain": [
       "{0: (array([0.83333333, 1.5       , 0.83333333, 1.5       , 0.83333333]),\n",
       "  array([0.32988511, 0.71261263, 0.32988511, 0.71261263, 0.32988511]),\n",
       "  6),\n",
       " 1: (array([2.25, 3.25, 2.5 , 3.  , 2.5 ]),\n",
       "  array([0.41413762, 0.41413762, 0.50495098, 0.05      , 0.50495098]),\n",
       "  4)}"
      ]
     },
     "execution_count": 23,
     "metadata": {},
     "output_type": "execute_result"
    }
   ],
   "source": [
    "fbd.values"
   ]
  },
  {
   "cell_type": "code",
   "execution_count": 24,
   "id": "36b25e14-3f68-480f-80ec-c14f08f99fe7",
   "metadata": {},
   "outputs": [
    {
     "data": {
      "text/plain": [
       "[0, 1, 0, 1]"
      ]
     },
     "execution_count": 24,
     "metadata": {},
     "output_type": "execute_result"
    }
   ],
   "source": [
    "fbd.predict(X)"
   ]
  },
  {
   "cell_type": "markdown",
   "id": "fefb445a-a9b3-44c3-87b5-4bfb9d167f9b",
   "metadata": {},
   "source": [
    "## Extra Prediction 1 Function"
   ]
  },
  {
   "cell_type": "code",
   "execution_count": 25,
   "id": "7bba3ada-a996-4caf-b827-e9f954fc32f4",
   "metadata": {
    "tags": []
   },
   "outputs": [],
   "source": [
    "X1 = X.iloc[0]"
   ]
  },
  {
   "cell_type": "code",
   "execution_count": 26,
   "id": "9fd11910-0ee1-43ce-8fb4-6896e4555987",
   "metadata": {
    "tags": []
   },
   "outputs": [],
   "source": [
    "def probability_one(X1, vmean, vstd):\n",
    "    return np.exp(-np.sum(((X1 - vmean) / vstd) ** 2)) / np.sqrt(sum(vstd ** 2) * 2 * np.pi)"
   ]
  },
  {
   "cell_type": "code",
   "execution_count": 27,
   "id": "25c65c9f-eb33-49cb-8132-e3b1946b7d83",
   "metadata": {
    "tags": []
   },
   "outputs": [
    {
     "data": {
      "text/plain": [
       "[0.059819305727353674, 0.0]"
      ]
     },
     "execution_count": 27,
     "metadata": {},
     "output_type": "execute_result"
    }
   ],
   "source": [
    "[probability_one(X1, fbd.values[k][0], fbd.values[k][1]) for k in fbd.values]"
   ]
  },
  {
   "cell_type": "code",
   "execution_count": 28,
   "id": "fd763905-8905-4a23-bad3-a43fa0c19fd3",
   "metadata": {
    "tags": []
   },
   "outputs": [],
   "source": [
    "def predict_one(X1):\n",
    "    return {\n",
    "        k: fbd.values[k][2] * probability_one(X1, fbd.values[k][0], fbd.values[k][1]) for k in fbd.values\n",
    "    }"
   ]
  },
  {
   "cell_type": "code",
   "execution_count": 29,
   "id": "af96711e-af48-40e1-9b95-ca9644594608",
   "metadata": {
    "tags": []
   },
   "outputs": [
    {
     "name": "stdout",
     "output_type": "stream",
     "text": [
      "{0: 0.35891583436412205, 1: 0.0}\n",
      "{0: 3.6786652446937237e-47, 1: 0.11713993756086295}\n",
      "{0: 1.4208134733865976e-12, 1: 0.0}\n",
      "{0: 6.953146244475548e-64, 1: 0.00034397176628050947}\n"
     ]
    }
   ],
   "source": [
    "for _, X1 in X.iterrows():\n",
    "    print(predict_one(X1))"
   ]
  },
  {
   "cell_type": "code",
   "execution_count": 30,
   "id": "c2d4ef70-9da5-45b5-9565-4883e6040b02",
   "metadata": {},
   "outputs": [
    {
     "name": "stdout",
     "output_type": "stream",
     "text": [
      "{0: 0.35891583436412205, 1: 0.0}\n",
      "{0: 3.6786652446937237e-47, 1: 0.11713993756086295}\n",
      "{0: 1.4208134733865976e-12, 1: 0.0}\n",
      "{0: 6.953146244475548e-64, 1: 0.00034397176628050947}\n"
     ]
    }
   ],
   "source": [
    "for _, X1 in X.iterrows():\n",
    "    print(fbd.predict_one(X1))"
   ]
  },
  {
   "cell_type": "code",
   "execution_count": null,
   "id": "b4cadb68-2b61-4dec-a9a3-51417671a9d6",
   "metadata": {},
   "outputs": [],
   "source": []
  }
 ],
 "metadata": {
  "kernelspec": {
   "display_name": "Python 3 (ipykernel)",
   "language": "python",
   "name": "python3"
  },
  "language_info": {
   "codemirror_mode": {
    "name": "ipython",
    "version": 3
   },
   "file_extension": ".py",
   "mimetype": "text/x-python",
   "name": "python",
   "nbconvert_exporter": "python",
   "pygments_lexer": "ipython3",
   "version": "3.11.2"
  }
 },
 "nbformat": 4,
 "nbformat_minor": 5
}
